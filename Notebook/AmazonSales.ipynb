{
 "cells": [
  {
   "cell_type": "code",
   "execution_count": 40,
   "id": "3591e2cb-a2be-4dee-83c3-a998e5879619",
   "metadata": {},
   "outputs": [],
   "source": [
    "import pandas as pd\n",
    "import numpy as np\n",
    "import matplotlib.pyplot as plt\n",
    "import seaborn as sns"
   ]
  },
  {
   "cell_type": "code",
   "execution_count": 41,
   "id": "f17c7e0c-62d9-47c2-9b9a-298e3ccfc72b",
   "metadata": {},
   "outputs": [],
   "source": [
    "data = pd.read_csv('Amazon_Combined_Data.xlsx - Amazon_Data.csv')"
   ]
  },
  {
   "cell_type": "code",
   "execution_count": 42,
   "id": "2fd6259e-889b-422c-a3d9-9c4ec81a48d8",
   "metadata": {},
   "outputs": [
    {
     "data": {
      "text/html": [
       "<div>\n",
       "<style scoped>\n",
       "    .dataframe tbody tr th:only-of-type {\n",
       "        vertical-align: middle;\n",
       "    }\n",
       "\n",
       "    .dataframe tbody tr th {\n",
       "        vertical-align: top;\n",
       "    }\n",
       "\n",
       "    .dataframe thead th {\n",
       "        text-align: right;\n",
       "    }\n",
       "</style>\n",
       "<table border=\"1\" class=\"dataframe\">\n",
       "  <thead>\n",
       "    <tr style=\"text-align: right;\">\n",
       "      <th></th>\n",
       "      <th>Product Category</th>\n",
       "      <th>Product Description</th>\n",
       "      <th>Price(Dollar)</th>\n",
       "      <th>Number of  reviews</th>\n",
       "      <th>Shipment</th>\n",
       "      <th>Order Date</th>\n",
       "    </tr>\n",
       "  </thead>\n",
       "  <tbody>\n",
       "    <tr>\n",
       "      <th>0</th>\n",
       "      <td>Audio Video</td>\n",
       "      <td>Upgraded, Anker Soundcore Bluetooth Speaker wi...</td>\n",
       "      <td>27</td>\n",
       "      <td>82,773</td>\n",
       "      <td>Ships to Bangladesh</td>\n",
       "      <td>1/3/2019</td>\n",
       "    </tr>\n",
       "    <tr>\n",
       "      <th>1</th>\n",
       "      <td>Audio Video</td>\n",
       "      <td>Twelve South AirFly Pro Bluetooth Wireless Aud...</td>\n",
       "      <td>54</td>\n",
       "      <td>5,121</td>\n",
       "      <td>Ships to Bangladesh</td>\n",
       "      <td>1/4/2019</td>\n",
       "    </tr>\n",
       "    <tr>\n",
       "      <th>2</th>\n",
       "      <td>Audio Video</td>\n",
       "      <td>iOttie Easy One Touch 5 Dashboard &amp; Windshield...</td>\n",
       "      <td>24</td>\n",
       "      <td>126,957</td>\n",
       "      <td>Ships to Bangladesh</td>\n",
       "      <td>1/4/2019</td>\n",
       "    </tr>\n",
       "    <tr>\n",
       "      <th>3</th>\n",
       "      <td>Audio Video</td>\n",
       "      <td>INIU Wireless Charger, 15W Fast Wireless Charg...</td>\n",
       "      <td>15</td>\n",
       "      <td>18,837</td>\n",
       "      <td>Ships to Bangladesh</td>\n",
       "      <td>1/4/2019</td>\n",
       "    </tr>\n",
       "    <tr>\n",
       "      <th>4</th>\n",
       "      <td>Audio Video</td>\n",
       "      <td>JBL Flip 4 Waterproof Portable Bluetooth Speak...</td>\n",
       "      <td>78</td>\n",
       "      <td>13,141</td>\n",
       "      <td>Ships to Bangladesh</td>\n",
       "      <td>1/5/2019</td>\n",
       "    </tr>\n",
       "  </tbody>\n",
       "</table>\n",
       "</div>"
      ],
      "text/plain": [
       "  Product Category                                Product Description  \\\n",
       "0     Audio Video   Upgraded, Anker Soundcore Bluetooth Speaker wi...   \n",
       "1     Audio Video   Twelve South AirFly Pro Bluetooth Wireless Aud...   \n",
       "2     Audio Video   iOttie Easy One Touch 5 Dashboard & Windshield...   \n",
       "3     Audio Video   INIU Wireless Charger, 15W Fast Wireless Charg...   \n",
       "4     Audio Video   JBL Flip 4 Waterproof Portable Bluetooth Speak...   \n",
       "\n",
       "  Price(Dollar) Number of  reviews             Shipment Order Date  \n",
       "0            27             82,773  Ships to Bangladesh   1/3/2019  \n",
       "1            54              5,121  Ships to Bangladesh   1/4/2019  \n",
       "2            24            126,957  Ships to Bangladesh   1/4/2019  \n",
       "3            15             18,837  Ships to Bangladesh   1/4/2019  \n",
       "4            78             13,141  Ships to Bangladesh   1/5/2019  "
      ]
     },
     "execution_count": 42,
     "metadata": {},
     "output_type": "execute_result"
    }
   ],
   "source": [
    "data.head()"
   ]
  },
  {
   "cell_type": "code",
   "execution_count": 43,
   "id": "f82df143-60e2-490a-8ec3-bdffe1a1fa19",
   "metadata": {},
   "outputs": [
    {
     "data": {
      "text/html": [
       "<div>\n",
       "<style scoped>\n",
       "    .dataframe tbody tr th:only-of-type {\n",
       "        vertical-align: middle;\n",
       "    }\n",
       "\n",
       "    .dataframe tbody tr th {\n",
       "        vertical-align: top;\n",
       "    }\n",
       "\n",
       "    .dataframe thead th {\n",
       "        text-align: right;\n",
       "    }\n",
       "</style>\n",
       "<table border=\"1\" class=\"dataframe\">\n",
       "  <thead>\n",
       "    <tr style=\"text-align: right;\">\n",
       "      <th></th>\n",
       "      <th>Product Category</th>\n",
       "      <th>Product Description</th>\n",
       "      <th>Price(Dollar)</th>\n",
       "      <th>Number of  reviews</th>\n",
       "      <th>Shipment</th>\n",
       "      <th>Order Date</th>\n",
       "    </tr>\n",
       "  </thead>\n",
       "  <tbody>\n",
       "    <tr>\n",
       "      <th>89077</th>\n",
       "      <td>Toys</td>\n",
       "      <td>Papo - Hand-Painted - Figurine - Marine Life -...</td>\n",
       "      <td>11</td>\n",
       "      <td>1,094</td>\n",
       "      <td>Ships to Bangladesh</td>\n",
       "      <td>4/30/2022</td>\n",
       "    </tr>\n",
       "    <tr>\n",
       "      <th>89078</th>\n",
       "      <td>Toys</td>\n",
       "      <td>Green Toys Farm Playset. CB2</td>\n",
       "      <td>26</td>\n",
       "      <td>78</td>\n",
       "      <td>Ships to Bangladesh</td>\n",
       "      <td>4/30/2022</td>\n",
       "    </tr>\n",
       "    <tr>\n",
       "      <th>89079</th>\n",
       "      <td>Toys</td>\n",
       "      <td>Teenage Mutant Ninja Turtles 5\" Sewer Shredder...</td>\n",
       "      <td>10</td>\n",
       "      <td>78</td>\n",
       "      <td>Ships to Bangladesh</td>\n",
       "      <td>4/30/2022</td>\n",
       "    </tr>\n",
       "    <tr>\n",
       "      <th>89080</th>\n",
       "      <td>Toys</td>\n",
       "      <td>Schleich Wild Life, Wild Animal Toys for Kids,...</td>\n",
       "      <td>42</td>\n",
       "      <td>78</td>\n",
       "      <td>Ships to Bangladesh</td>\n",
       "      <td>4/30/2022</td>\n",
       "    </tr>\n",
       "    <tr>\n",
       "      <th>89081</th>\n",
       "      <td>Toys</td>\n",
       "      <td>Schleich bayala, 5-Piece Starter Set with Fair...</td>\n",
       "      <td>34</td>\n",
       "      <td>78</td>\n",
       "      <td>Ships to Bangladesh</td>\n",
       "      <td>4/30/2022</td>\n",
       "    </tr>\n",
       "  </tbody>\n",
       "</table>\n",
       "</div>"
      ],
      "text/plain": [
       "      Product Category                                Product Description  \\\n",
       "89077             Toys  Papo - Hand-Painted - Figurine - Marine Life -...   \n",
       "89078             Toys                       Green Toys Farm Playset. CB2   \n",
       "89079             Toys  Teenage Mutant Ninja Turtles 5\" Sewer Shredder...   \n",
       "89080             Toys  Schleich Wild Life, Wild Animal Toys for Kids,...   \n",
       "89081             Toys  Schleich bayala, 5-Piece Starter Set with Fair...   \n",
       "\n",
       "      Price(Dollar) Number of  reviews             Shipment Order Date  \n",
       "89077            11              1,094  Ships to Bangladesh  4/30/2022  \n",
       "89078            26                 78  Ships to Bangladesh  4/30/2022  \n",
       "89079            10                 78  Ships to Bangladesh  4/30/2022  \n",
       "89080            42                 78  Ships to Bangladesh  4/30/2022  \n",
       "89081            34                 78  Ships to Bangladesh  4/30/2022  "
      ]
     },
     "execution_count": 43,
     "metadata": {},
     "output_type": "execute_result"
    }
   ],
   "source": [
    "data.tail()"
   ]
  },
  {
   "cell_type": "code",
   "execution_count": 44,
   "id": "51820971-4161-489d-95a0-fa2441a6d869",
   "metadata": {},
   "outputs": [
    {
     "data": {
      "text/plain": [
       "Index(['Product Category', 'Product Description', 'Price(Dollar)',\n",
       "       'Number of  reviews', 'Shipment', 'Order Date'],\n",
       "      dtype='object')"
      ]
     },
     "execution_count": 44,
     "metadata": {},
     "output_type": "execute_result"
    }
   ],
   "source": [
    "data.columns"
   ]
  },
  {
   "cell_type": "code",
   "execution_count": 45,
   "id": "54a84f43-6ab0-4c7c-9ba2-3e4191910279",
   "metadata": {},
   "outputs": [
    {
     "name": "stdout",
     "output_type": "stream",
     "text": [
      "<class 'pandas.core.frame.DataFrame'>\n",
      "RangeIndex: 89082 entries, 0 to 89081\n",
      "Data columns (total 6 columns):\n",
      " #   Column               Non-Null Count  Dtype \n",
      "---  ------               --------------  ----- \n",
      " 0   Product Category     89082 non-null  object\n",
      " 1   Product Description  89082 non-null  object\n",
      " 2   Price(Dollar)        89082 non-null  object\n",
      " 3   Number of  reviews   89082 non-null  object\n",
      " 4   Shipment             89082 non-null  object\n",
      " 5   Order Date           89082 non-null  object\n",
      "dtypes: object(6)\n",
      "memory usage: 4.1+ MB\n"
     ]
    }
   ],
   "source": [
    "data.info()"
   ]
  },
  {
   "cell_type": "code",
   "execution_count": 46,
   "id": "4534b347-9973-4637-8125-aadf564c656b",
   "metadata": {},
   "outputs": [
    {
     "data": {
      "text/html": [
       "<div>\n",
       "<style scoped>\n",
       "    .dataframe tbody tr th:only-of-type {\n",
       "        vertical-align: middle;\n",
       "    }\n",
       "\n",
       "    .dataframe tbody tr th {\n",
       "        vertical-align: top;\n",
       "    }\n",
       "\n",
       "    .dataframe thead th {\n",
       "        text-align: right;\n",
       "    }\n",
       "</style>\n",
       "<table border=\"1\" class=\"dataframe\">\n",
       "  <thead>\n",
       "    <tr style=\"text-align: right;\">\n",
       "      <th></th>\n",
       "      <th>count</th>\n",
       "      <th>unique</th>\n",
       "      <th>top</th>\n",
       "      <th>freq</th>\n",
       "    </tr>\n",
       "  </thead>\n",
       "  <tbody>\n",
       "    <tr>\n",
       "      <th>Product Category</th>\n",
       "      <td>89082</td>\n",
       "      <td>8</td>\n",
       "      <td>Men Shoes</td>\n",
       "      <td>23228</td>\n",
       "    </tr>\n",
       "    <tr>\n",
       "      <th>Product Description</th>\n",
       "      <td>89082</td>\n",
       "      <td>67942</td>\n",
       "      <td>KODAK Step Slim Instant Mobile Color Photo Pri...</td>\n",
       "      <td>429</td>\n",
       "    </tr>\n",
       "    <tr>\n",
       "      <th>Price(Dollar)</th>\n",
       "      <td>89082</td>\n",
       "      <td>1332</td>\n",
       "      <td>49</td>\n",
       "      <td>2810</td>\n",
       "    </tr>\n",
       "    <tr>\n",
       "      <th>Number of  reviews</th>\n",
       "      <td>89082</td>\n",
       "      <td>5102</td>\n",
       "      <td>1</td>\n",
       "      <td>5572</td>\n",
       "    </tr>\n",
       "    <tr>\n",
       "      <th>Shipment</th>\n",
       "      <td>89082</td>\n",
       "      <td>14</td>\n",
       "      <td>Ships to Bangladesh</td>\n",
       "      <td>88126</td>\n",
       "    </tr>\n",
       "    <tr>\n",
       "      <th>Order Date</th>\n",
       "      <td>89082</td>\n",
       "      <td>1243</td>\n",
       "      <td>9/5/2021</td>\n",
       "      <td>342</td>\n",
       "    </tr>\n",
       "  </tbody>\n",
       "</table>\n",
       "</div>"
      ],
      "text/plain": [
       "                     count unique  \\\n",
       "Product Category     89082      8   \n",
       "Product Description  89082  67942   \n",
       "Price(Dollar)        89082   1332   \n",
       "Number of  reviews   89082   5102   \n",
       "Shipment             89082     14   \n",
       "Order Date           89082   1243   \n",
       "\n",
       "                                                                   top   freq  \n",
       "Product Category                                             Men Shoes  23228  \n",
       "Product Description  KODAK Step Slim Instant Mobile Color Photo Pri...    429  \n",
       "Price(Dollar)                                                       49   2810  \n",
       "Number of  reviews                                                   1   5572  \n",
       "Shipment                                           Ships to Bangladesh  88126  \n",
       "Order Date                                                    9/5/2021    342  "
      ]
     },
     "execution_count": 46,
     "metadata": {},
     "output_type": "execute_result"
    }
   ],
   "source": [
    "data.describe().T"
   ]
  },
  {
   "cell_type": "code",
   "execution_count": 47,
   "id": "2020b89d-12b1-4dd8-a26f-18d1e4947554",
   "metadata": {},
   "outputs": [
    {
     "data": {
      "text/html": [
       "<div>\n",
       "<style scoped>\n",
       "    .dataframe tbody tr th:only-of-type {\n",
       "        vertical-align: middle;\n",
       "    }\n",
       "\n",
       "    .dataframe tbody tr th {\n",
       "        vertical-align: top;\n",
       "    }\n",
       "\n",
       "    .dataframe thead th {\n",
       "        text-align: right;\n",
       "    }\n",
       "</style>\n",
       "<table border=\"1\" class=\"dataframe\">\n",
       "  <thead>\n",
       "    <tr style=\"text-align: right;\">\n",
       "      <th></th>\n",
       "      <th>Product Category</th>\n",
       "      <th>Product Description</th>\n",
       "      <th>Price(Dollar)</th>\n",
       "      <th>Number of  reviews</th>\n",
       "      <th>Shipment</th>\n",
       "      <th>Order Date</th>\n",
       "    </tr>\n",
       "  </thead>\n",
       "  <tbody>\n",
       "    <tr>\n",
       "      <th>count</th>\n",
       "      <td>89082</td>\n",
       "      <td>89082</td>\n",
       "      <td>89082</td>\n",
       "      <td>89082</td>\n",
       "      <td>89082</td>\n",
       "      <td>89082</td>\n",
       "    </tr>\n",
       "    <tr>\n",
       "      <th>unique</th>\n",
       "      <td>8</td>\n",
       "      <td>67942</td>\n",
       "      <td>1332</td>\n",
       "      <td>5102</td>\n",
       "      <td>14</td>\n",
       "      <td>1243</td>\n",
       "    </tr>\n",
       "    <tr>\n",
       "      <th>top</th>\n",
       "      <td>Men Shoes</td>\n",
       "      <td>KODAK Step Slim Instant Mobile Color Photo Pri...</td>\n",
       "      <td>49</td>\n",
       "      <td>1</td>\n",
       "      <td>Ships to Bangladesh</td>\n",
       "      <td>9/5/2021</td>\n",
       "    </tr>\n",
       "    <tr>\n",
       "      <th>freq</th>\n",
       "      <td>23228</td>\n",
       "      <td>429</td>\n",
       "      <td>2810</td>\n",
       "      <td>5572</td>\n",
       "      <td>88126</td>\n",
       "      <td>342</td>\n",
       "    </tr>\n",
       "  </tbody>\n",
       "</table>\n",
       "</div>"
      ],
      "text/plain": [
       "       Product Category                                Product Description  \\\n",
       "count             89082                                              89082   \n",
       "unique                8                                              67942   \n",
       "top           Men Shoes  KODAK Step Slim Instant Mobile Color Photo Pri...   \n",
       "freq              23228                                                429   \n",
       "\n",
       "       Price(Dollar) Number of  reviews             Shipment Order Date  \n",
       "count          89082              89082                89082      89082  \n",
       "unique          1332               5102                   14       1243  \n",
       "top               49                  1  Ships to Bangladesh   9/5/2021  \n",
       "freq            2810               5572                88126        342  "
      ]
     },
     "execution_count": 47,
     "metadata": {},
     "output_type": "execute_result"
    }
   ],
   "source": [
    "data.describe(include = \"object\")"
   ]
  },
  {
   "cell_type": "code",
   "execution_count": 48,
   "id": "b5b19a71-94a6-4eb5-91fc-42473a254cb3",
   "metadata": {},
   "outputs": [
    {
     "data": {
      "text/plain": [
       "135"
      ]
     },
     "execution_count": 48,
     "metadata": {},
     "output_type": "execute_result"
    }
   ],
   "source": [
    "data.duplicated().sum()"
   ]
  },
  {
   "cell_type": "code",
   "execution_count": 49,
   "id": "ca686fd3-9a09-44c0-9122-983174f1f47d",
   "metadata": {},
   "outputs": [],
   "source": [
    "data = data.drop_duplicates()"
   ]
  },
  {
   "cell_type": "code",
   "execution_count": 50,
   "id": "b3fd0392-98a8-407d-881d-3e9efe065760",
   "metadata": {},
   "outputs": [
    {
     "data": {
      "text/plain": [
       "0"
      ]
     },
     "execution_count": 50,
     "metadata": {},
     "output_type": "execute_result"
    }
   ],
   "source": [
    "data.duplicated().sum()"
   ]
  },
  {
   "cell_type": "code",
   "execution_count": 51,
   "id": "32a5a082-57df-401d-91e9-fa3dcac1381e",
   "metadata": {},
   "outputs": [
    {
     "data": {
      "text/plain": [
       "Product Category       0\n",
       "Product Description    0\n",
       "Price(Dollar)          0\n",
       "Number of  reviews     0\n",
       "Shipment               0\n",
       "Order Date             0\n",
       "dtype: int64"
      ]
     },
     "execution_count": 51,
     "metadata": {},
     "output_type": "execute_result"
    }
   ],
   "source": [
    "data.isnull().sum()"
   ]
  },
  {
   "cell_type": "code",
   "execution_count": 55,
   "id": "20560945-50db-408c-9ccb-281a09263888",
   "metadata": {},
   "outputs": [
    {
     "data": {
      "text/html": [
       "<div>\n",
       "<style scoped>\n",
       "    .dataframe tbody tr th:only-of-type {\n",
       "        vertical-align: middle;\n",
       "    }\n",
       "\n",
       "    .dataframe tbody tr th {\n",
       "        vertical-align: top;\n",
       "    }\n",
       "\n",
       "    .dataframe thead th {\n",
       "        text-align: right;\n",
       "    }\n",
       "</style>\n",
       "<table border=\"1\" class=\"dataframe\">\n",
       "  <thead>\n",
       "    <tr style=\"text-align: right;\">\n",
       "      <th></th>\n",
       "      <th>Order Date</th>\n",
       "      <th>Year</th>\n",
       "      <th>Month</th>\n",
       "      <th>Quarter</th>\n",
       "      <th>Weekday</th>\n",
       "    </tr>\n",
       "  </thead>\n",
       "  <tbody>\n",
       "    <tr>\n",
       "      <th>0</th>\n",
       "      <td>2019-01-03</td>\n",
       "      <td>2019</td>\n",
       "      <td>January</td>\n",
       "      <td>2019Q1</td>\n",
       "      <td>Thursday</td>\n",
       "    </tr>\n",
       "    <tr>\n",
       "      <th>1</th>\n",
       "      <td>2019-01-04</td>\n",
       "      <td>2019</td>\n",
       "      <td>January</td>\n",
       "      <td>2019Q1</td>\n",
       "      <td>Friday</td>\n",
       "    </tr>\n",
       "    <tr>\n",
       "      <th>2</th>\n",
       "      <td>2019-01-04</td>\n",
       "      <td>2019</td>\n",
       "      <td>January</td>\n",
       "      <td>2019Q1</td>\n",
       "      <td>Friday</td>\n",
       "    </tr>\n",
       "    <tr>\n",
       "      <th>3</th>\n",
       "      <td>2019-01-04</td>\n",
       "      <td>2019</td>\n",
       "      <td>January</td>\n",
       "      <td>2019Q1</td>\n",
       "      <td>Friday</td>\n",
       "    </tr>\n",
       "    <tr>\n",
       "      <th>4</th>\n",
       "      <td>2019-01-05</td>\n",
       "      <td>2019</td>\n",
       "      <td>January</td>\n",
       "      <td>2019Q1</td>\n",
       "      <td>Saturday</td>\n",
       "    </tr>\n",
       "  </tbody>\n",
       "</table>\n",
       "</div>"
      ],
      "text/plain": [
       "  Order Date  Year    Month Quarter   Weekday\n",
       "0 2019-01-03  2019  January  2019Q1  Thursday\n",
       "1 2019-01-04  2019  January  2019Q1    Friday\n",
       "2 2019-01-04  2019  January  2019Q1    Friday\n",
       "3 2019-01-04  2019  January  2019Q1    Friday\n",
       "4 2019-01-05  2019  January  2019Q1  Saturday"
      ]
     },
     "execution_count": 55,
     "metadata": {},
     "output_type": "execute_result"
    }
   ],
   "source": [
    "data['Order Date'] = pd.to_datetime(data['Order Date'], errors='coerce')\n",
    "\n",
    "data[\"Year\"] = data[\"Order Date\"].dt.year\n",
    "data[\"Month\"] = data[\"Order Date\"].dt.month_name()\n",
    "data[\"Quarter\"] = data[\"Order Date\"].dt.to_period(\"Q\").astype(str)\n",
    "data[\"Weekday\"] = data[\"Order Date\"].dt.day_name()\n",
    "\n",
    "data[[\"Order Date\", \"Year\", \"Month\", \"Quarter\", \"Weekday\"]].head()"
   ]
  },
  {
   "cell_type": "code",
   "execution_count": 56,
   "id": "cacf7414-a999-47c9-9160-606cb6bbff79",
   "metadata": {},
   "outputs": [],
   "source": [
    "data.to_csv('amazon_sales_analysis.csv', index=False)"
   ]
  },
  {
   "cell_type": "code",
   "execution_count": null,
   "id": "7e5921de-50c6-462d-9934-3daed56fe1f0",
   "metadata": {},
   "outputs": [],
   "source": []
  }
 ],
 "metadata": {
  "kernelspec": {
   "display_name": "Python 3 (ipykernel)",
   "language": "python",
   "name": "python3"
  },
  "language_info": {
   "codemirror_mode": {
    "name": "ipython",
    "version": 3
   },
   "file_extension": ".py",
   "mimetype": "text/x-python",
   "name": "python",
   "nbconvert_exporter": "python",
   "pygments_lexer": "ipython3",
   "version": "3.12.2"
  }
 },
 "nbformat": 4,
 "nbformat_minor": 5
}
